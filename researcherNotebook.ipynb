{
 "cells": [
  {
   "cell_type": "code",
   "execution_count": null,
   "id": "13330385-99b7-4c32-8256-d1553d9d3a70",
   "metadata": {},
   "outputs": [],
   "source": [
    "!pip3 install python-dotenv\n",
    "!pip3 install langchain\n",
    "!pip3 install google-generativeai\n",
    "!pip3 install duckduckgo-search\n",
    "!pip3 install requests\n",
    "!pip3 install beautifulsoup4\n",
    "!pip3 install lxml\n",
    "!pip3 install youtube-transcript-api\n",
    "!pip3 install pytube\n",
    "!pip3 install youtube-search-python\n",
    "!pip3 install pytube\n",
    "!pip3 install  youtube-transcript-api"
   ]
  },
  {
   "cell_type": "code",
   "execution_count": null,
   "id": "bb14308e-358b-4644-9182-05d0beb758a6",
   "metadata": {},
   "outputs": [],
   "source": [
    "from langchain.llms import GooglePalm\n",
    "from dotenv import load_dotenv\n",
    "load_dotenv()"
   ]
  },
  {
   "cell_type": "code",
   "execution_count": null,
   "id": "94642a82-3902-42e1-89d2-89a16cb30ddb",
   "metadata": {},
   "outputs": [],
   "source": [
    "import requests\n",
    "from bs4 import BeautifulSoup\n",
    "def scrape_text(url: str) -> str:\n",
    "    \"\"\"\n",
    "    Retrieve text content from a webpage.\n",
    "\n",
    "    Parameters:\n",
    "    - url (str): The URL of the webpage to scrape.\n",
    "\n",
    "    Returns:\n",
    "    - str: The text content of the webpage.\n",
    "\n",
    "    If the retrieval is successful (status code 200), the function parses the HTML content\n",
    "    using BeautifulSoup and returns the text content, stripping leading and trailing whitespaces.\n",
    "\n",
    "    If the retrieval fails, an error message is returned, including the HTTP status code.\n",
    "    \"\"\"\n",
    "    try:\n",
    "        response = requests.get(url)\n",
    "\n",
    "        if response.status_code == 200:\n",
    "            soup = BeautifulSoup(response.text, \"lxml\")\n",
    "            page_text = soup.get_text(separator=\" \", strip=True)\n",
    "            return page_text\n",
    "        else:\n",
    "            return f\"Failed to retrieve the webpage: Status code {response.status_code}\"\n",
    "\n",
    "    except Exception as e:\n",
    "        print(e)\n",
    "        return f\"Failed to retrieve the webpage: {e}\"\n"
   ]
  },
  {
   "cell_type": "code",
   "execution_count": null,
   "id": "ed99603f-f585-486e-ae11-fa3202f305c8",
   "metadata": {},
   "outputs": [],
   "source": [
    "#url =\"https://blog.langchain.dev/announcing-langsmith/\""
   ]
  },
  {
   "cell_type": "code",
   "execution_count": null,
   "id": "0d3e92da-e504-4914-b021-4e67579e0cd8",
   "metadata": {},
   "outputs": [],
   "source": [
    "from langchain.prompts import ChatPromptTemplate\n",
    "from langchain.schema.output_parser import StrOutputParser\n",
    "SUMMARY_TEMPLATE = \"\"\"{text}\n",
    "\n",
    "-----------------\n",
    "Using the above text, answer in short the following questions:\n",
    "\n",
    "> {question}\n",
    "\n",
    "------------------\n",
    "if the question cannot be answered using the text,imply summarize the text. Include all factual information,numbers,stats etc\n",
    "\"\"\"\n",
    "\n",
    "SUMMARY_PROMPT = ChatPromptTemplate.from_template(SUMMARY_TEMPLATE)\n",
    "model = GooglePalm( temperature = 0)"
   ]
  },
  {
   "cell_type": "code",
   "execution_count": null,
   "id": "7470b58d-1c72-4f1b-a626-85d7106e7a4a",
   "metadata": {},
   "outputs": [],
   "source": [
    "page_content = scrape_text(url)[:10000]\n",
    "print(page_content)"
   ]
  },
  {
   "cell_type": "code",
   "execution_count": 256,
   "id": "341cc803-22c9-411b-ae75-c36dce02f52d",
   "metadata": {},
   "outputs": [],
   "source": [
    "from langchain.schema.runnable import RunnablePassthrough\n",
    "\n",
    "scrape_and_summarize_chain = RunnablePassthrough.assign(summary = RunnablePassthrough.assign(text=lambda x: scrape_text(x[\"url\"])[:min(10000, len(x[\"url\"]))]\n",
    ")|SUMMARY_PROMPT | model | StrOutputParser()) | (lambda x:f\"url : {x['url']}\\n\\nsummary : {x['summary']}\")\n",
    "\n",
    "\n",
    "\n"
   ]
  },
  {
   "cell_type": "code",
   "execution_count": 257,
   "id": "f96752e4-b599-4253-8827-d40052ec811a",
   "metadata": {},
   "outputs": [],
   "source": [
    "from langchain.utilities import DuckDuckGoSearchAPIWrapper\n",
    "RESULTS_PER_QUESTION = 3\n",
    "ddg_search = DuckDuckGoSearchAPIWrapper()\n",
    "\n",
    "def web_search(query: str, num_results: int = RESULTS_PER_QUESTION):\n",
    "    results = ddg_search.results(query,num_results)\n",
    "    return [r['link'] for r in results]"
   ]
  },
  {
   "cell_type": "code",
   "execution_count": 258,
   "id": "ff05ccb6-126f-42be-9e57-ac1d74b2dfbe",
   "metadata": {},
   "outputs": [
    {
     "data": {
      "text/plain": [
       "['https://time.com/6288459/india-ally-us-modi-biden-visit/',\n",
       " 'https://www.ft.com/content/95a2074f-8491-41d4-9d8b-68b3124723a9',\n",
       " 'https://www.theatlantic.com/international/archive/2023/03/india-relations-us-china-modi/673237/']"
      ]
     },
     "execution_count": 258,
     "metadata": {},
     "output_type": "execute_result"
    }
   ],
   "source": [
    "web_search(\"India and its allies?\")"
   ]
  },
  {
   "cell_type": "code",
   "execution_count": 259,
   "id": "3424ea9b-e96d-4807-8ed1-8b8a65cf9d28",
   "metadata": {},
   "outputs": [
    {
     "name": "stdout",
     "output_type": "stream",
     "text": [
      "[{'question': 'India and its allies?', 'url': 'https://time.com/6288459/india-ally-us-modi-biden-visit/'}, {'question': 'India and its allies?', 'url': 'https://www.ft.com/content/95a2074f-8491-41d4-9d8b-68b3124723a9'}, {'question': 'India and its allies?', 'url': 'https://www.theatlantic.com/international/archive/2023/03/india-relations-us-china-modi/673237/'}]\n"
     ]
    }
   ],
   "source": [
    "link_extraction_chain = RunnablePassthrough.assign(\n",
    "    urls = lambda x: web_search(x[\"question\"])\n",
    ")| (lambda x : [{\"question\":x[\"question\"],\"url\": u} for u in x[\"urls\"]])\n",
    "\n",
    "print(link_extraction_chain.invoke({\n",
    "    \"question\":\"India and its allies?\"\n",
    "}))"
   ]
  },
  {
   "cell_type": "code",
   "execution_count": 260,
   "id": "0ff6b42d-858d-4d9c-8a4c-b07772702976",
   "metadata": {},
   "outputs": [
    {
     "name": "stdout",
     "output_type": "stream",
     "text": [
      "url : https://time.com/6288459/india-ally-us-modi-biden-visit/\n",
      "\n",
      "summary : India's closest allies are Russia, Israel, and Iran.\n"
     ]
    }
   ],
   "source": [
    "\n",
    "print(scrape_and_summarize_chain.invoke(\n",
    "{'question': 'India and its allies?', 'url': 'https://time.com/6288459/india-ally-us-modi-biden-visit/'}\n",
    "))\n"
   ]
  },
  {
   "cell_type": "code",
   "execution_count": null,
   "id": "0e974488-22de-4b82-b149-e069da871ef4",
   "metadata": {},
   "outputs": [],
   "source": [
    "# chain = RunnablePassthrough.assign(\n",
    "#     urls = lambda x: web_search(x[\"question\"])\n",
    "# )| (lambda x : [{\"question\":x[\"question\"],\"url\": u} for u in x[\"urls\"]]) | scrape_and_summarize_chain.map()\n",
    "\n",
    "\n",
    "text_single_question_multilink_web_search_chain = link_extraction_chain | scrape_and_summarize_chain.map()"
   ]
  },
  {
   "cell_type": "code",
   "execution_count": null,
   "id": "adac4aad-f607-4b85-aeb8-d861bf31c72e",
   "metadata": {},
   "outputs": [],
   "source": [
    "print(text_single_question_multilink_web_search_chain.invoke({\n",
    "    \"question\":\"India and its allies?\"\n",
    "}))"
   ]
  },
  {
   "cell_type": "code",
   "execution_count": null,
   "id": "ba3b1200-3ad7-4e5e-8efc-6dbe2d07dd34",
   "metadata": {},
   "outputs": [],
   "source": [
    "# SEARCH_PROMPT = ChatPromptTemplate.from_messages(\n",
    "#     [\n",
    "#         (\"user\",\n",
    "#          \"Write 3 google search queries to search online to form an \"\n",
    "#          \"objective opinion of from the following: {question}\\n\"\n",
    "#          \"You must respond with a list of strings in the following format:\"\n",
    "#          '[\"query 1\",\"query 2\",\"query 3\"]',\n",
    "#         )\n",
    "#     ]\n",
    "# )\n",
    "\n",
    "\n",
    "from langchain.prompts import HumanMessagePromptTemplate\n",
    "\n",
    "SEARCH_TEMPLATE =\"\"\"\n",
    "Write 3 google search queries to search online to form an objective opinion of from the following: \n",
    "{question} \n",
    "-----------------\n",
    "\n",
    "You must respond with a list of strings in the following format:\n",
    "-----------------\n",
    "[\"query 1\",\"query 2\",\"query 3\"]\n",
    "\"\"\"\n",
    "\n",
    "SEARCH_PROMPT = ChatPromptTemplate.from_messages(\n",
    "    [\n",
    "        HumanMessagePromptTemplate.from_template(SEARCH_TEMPLATE)\n",
    "    ]\n",
    ")\n"
   ]
  },
  {
   "cell_type": "code",
   "execution_count": null,
   "id": "9825161a-3dc9-4320-82f7-37d13b2a9a31",
   "metadata": {},
   "outputs": [],
   "source": [
    "import json\n",
    "create_question_chain = SEARCH_PROMPT | model | StrOutputParser() | json.loads"
   ]
  },
  {
   "cell_type": "code",
   "execution_count": null,
   "id": "c9b36afa-a3fe-4d0c-899d-b5eb0ae04a83",
   "metadata": {},
   "outputs": [],
   "source": [
    "create_question_chain.invoke(\n",
    "    {\n",
    "        \"question\":\"What is the difference between Machine Learning and Deep Learning\"\n",
    "    }\n",
    ")"
   ]
  },
  {
   "cell_type": "code",
   "execution_count": null,
   "id": "808700da-a018-42fe-a3f9-b762c9802df3",
   "metadata": {},
   "outputs": [],
   "source": [
    "full_text_web_search_chain =create_question_chain |(lambda x : [ {\"question\": q} for q in x]) |text_single_question_multilink_web_search_chain.map()\n",
    "\n"
   ]
  },
  {
   "cell_type": "code",
   "execution_count": null,
   "id": "ffdd6d23-b398-4a5d-8a78-bdf5f1b33687",
   "metadata": {},
   "outputs": [],
   "source": [
    "full_text_web_search_chain.invoke(\n",
    "       {\n",
    "        \"question\":\"ISRO vs NASA\",\n",
    "    }\n",
    ")"
   ]
  },
  {
   "cell_type": "code",
   "execution_count": null,
   "id": "a47f5351-0db4-4915-906f-48438b06d3ae",
   "metadata": {},
   "outputs": [],
   "source": [
    "from langchain.schema.runnable import ConfigurableField\n",
    "\n",
    "WRITER_SYSTEM_PROMPT = \"You are an AI critical thinker research assistant. Your sole purpose is to write well written, critically acclaimed, objective and structured reports on given text.\"\n",
    "\n",
    "\n",
    "RESEARCH_REPORT_TEMPLATE = \"\"\"Information: \n",
    "--------\n",
    "{research_summary}\n",
    "--------\n",
    "\n",
    "Using the above information, answer the following question or topic: \"{question}\" in a detailed report -- \\\n",
    "The report should focus on the answer to the question, should be well structured, informative, \\\n",
    "in depth, with facts and numbers if available and a minimum of 1,200 words.\n",
    "\n",
    "You should strive to write the report as long as you can using all relevant and necessary information provided.\n",
    "You must write the report with markdown syntax.\n",
    "You MUST determine your own concrete and valid opinion based on the given information. Do NOT deter to general and meaningless conclusions.\n",
    "Write all used source urls at the end of the report, and make sure to not add duplicated sources, but only one reference for each.\n",
    "You must write the report in apa format.\n",
    "Please do your best, this is very important to my career.\"\"\" \n",
    "\n",
    "\n",
    "RESOURCE_REPORT_TEMPLATE = \"\"\"Information: \n",
    "--------\n",
    "{research_summary}\n",
    "--------\n",
    "\n",
    "Based on the above information, generate a bibliography recommendation report for the following question or topic: \"{question}\". \\\n",
    "The report should provide a detailed analysis of each recommended resource, explaining how each source can contribute to finding answers to the research question. \\\n",
    "Focus on the relevance, reliability, and significance of each source. \\\n",
    "Ensure that the report is well-structured, informative, in-depth, and follows Markdown syntax. \\\n",
    "Include relevant facts, figures, and numbers whenever available. \\\n",
    "The report should have a minimum length of 1,200 words.\n",
    "\n",
    "Please do your best, this is very important to my career.\"\"\"  \n",
    "\n",
    "OUTLINE_REPORT_TEMPLATE = \"\"\"Information: \n",
    "--------\n",
    "{research_summary}\n",
    "--------\n",
    "\n",
    "Using the above information, generate an outline for a research report in Markdown syntax for the following question or topic: \"{question}\". \\\n",
    "The outline should provide a well-structured framework for the research report, including the main sections, subsections, and key points to be covered. \\\n",
    "The research report should be detailed, informative, in-depth, and a minimum of 1,200 words. \\\n",
    "Use appropriate Markdown syntax to format the outline and ensure readability.\n",
    "\n",
    "Please do your best, this is very important to my career.\"\"\"  \n",
    "\n",
    "\n",
    "prompt = ChatPromptTemplate.from_messages(\n",
    "    [\n",
    "        (\"system\", WRITER_SYSTEM_PROMPT),\n",
    "        (\"user\", RESEARCH_REPORT_TEMPLATE),\n",
    "    ]\n",
    ").configurable_alternatives(\n",
    "    ConfigurableField(\"report_type\"),\n",
    "    default_key=\"research_report\",\n",
    "    resource_report=ChatPromptTemplate.from_messages(\n",
    "        [\n",
    "            (\"system\", WRITER_SYSTEM_PROMPT),\n",
    "            (\"user\", RESOURCE_REPORT_TEMPLATE),\n",
    "        ]\n",
    "    ),\n",
    "    outline_report=ChatPromptTemplate.from_messages(\n",
    "        [\n",
    "            (\"system\", WRITER_SYSTEM_PROMPT),\n",
    "            (\"user\", OUTLINE_REPORT_TEMPLATE),\n",
    "        ]\n",
    "    ),\n",
    ")\n",
    "\n",
    "\n"
   ]
  },
  {
   "cell_type": "code",
   "execution_count": null,
   "id": "27f5890a-e4b8-48df-a2e0-38ad224ee128",
   "metadata": {},
   "outputs": [],
   "source": [
    "def collapse_list_of_lists(list_of_list):\n",
    "    content =[]\n",
    "    for l in list_of_lists:\n",
    "        content.append(\"\\n\\n\".join(l))\n",
    "    return \"\\n\\n\".join(content)\n",
    "\n",
    "\n",
    "\n",
    "# chain = RunnablePassthrough.assign(\n",
    "#     research_summary= full_text_web_search_chain | (lambda x: collapse_list_of_lists(x))\n",
    "# ) |prompt |model | StrOutputParser()\n",
    "\n",
    "\n",
    "full_text_chain = RunnablePassthrough.assign(\n",
    "    research_summary= full_text_web_search_chain | (lambda x: \"\\n\\n\".join([\"\\n\\n\".join(l) for l in x]))\n",
    "\n",
    ") | prompt | model | StrOutputParser()"
   ]
  },
  {
   "cell_type": "code",
   "execution_count": null,
   "id": "ab33ae2b-8dd3-4974-bb91-ace1ae0eb8b6",
   "metadata": {},
   "outputs": [],
   "source": [
    "full_text_chain.invoke(\n",
    "       {\n",
    "        \"question\":\"dollar vs INR\",\n",
    "    }\n",
    ")"
   ]
  },
  {
   "cell_type": "code",
   "execution_count": 239,
   "id": "0936454f-814b-4755-b433-50b83c03a3a0",
   "metadata": {},
   "outputs": [],
   "source": [
    "MAX_CHARACTERS_EXTRACTED_FROM_PAGE = 10000\n",
    "model = GooglePalm( temperature = 0)"
   ]
  },
  {
   "cell_type": "code",
   "execution_count": 238,
   "id": "2086078a-25dc-4867-9e74-c7bd93d2400f",
   "metadata": {},
   "outputs": [],
   "source": [
    "# from langchain.document_loaders import YoutubeLoader\n",
    "\n",
    "# loader = YoutubeLoader.from_youtube_url(\n",
    "#     \"https://www.youtube.com/watch?v=cQUUkZnyoD0\", add_video_info=True,language=[\"en\", \"hi\"],translation=\"en\",\n",
    "# )\n",
    "\n",
    "# loader.load()"
   ]
  },
  {
   "cell_type": "code",
   "execution_count": 240,
   "id": "a3c1eba4-05ec-4efa-8ad9-8bcba96cecb4",
   "metadata": {},
   "outputs": [],
   "source": [
    "def get_youTubeTranscript_text(url):\n",
    "    try:\n",
    "        loader = YoutubeLoader.from_youtube_url(\n",
    "    url, add_video_info=True,language=[\"en\",\"hi\"],translation=\"en\",\n",
    ")\n",
    "\n",
    "        data = loader.load()\n",
    "        data= (data[0].page_content[:10000]).strip()\n",
    "        clean_text = re.sub(r'[^A-Za-z0-9\\s]', '', data)\n",
    "        clean_text = re.sub(' +', ' ', clean_text)  # Remove extra spaces\n",
    "        return clean_text\n",
    "\n",
    "    except Exception as e:\n",
    "        print(e)\n",
    "        return f\"Failed to retrieve the transcript or the language is not available:\"\n",
    "\n",
    "\n",
    "\n",
    "# import re\n",
    "# from youtube_transcript_api import YouTubeTranscriptApi\n",
    "\n",
    "\n",
    "# def clean_text(text):\n",
    "#     # Remove special characters and unnecessary spaces\n",
    "#     clean_text = re.sub(r'[^A-Za-z0-9\\s]', '', text)\n",
    "#     clean_text = re.sub(' +', ' ', clean_text)  # Remove extra spaces\n",
    "#     return clean_text\n",
    "\n",
    "# def get_youtube_transcript_text(url):\n",
    "#     try:\n",
    "#         # Use YoutubeTranscriptApi to get the transcript\n",
    "#         transcript = YoutubeTranscriptApi.get_transcript(url, languages=[\"en\", \"hi\"])\n",
    "\n",
    "#         # Extract the text from the transcript\n",
    "#         text = \" \".join(entry[\"text\"] for entry in transcript)\n",
    "\n",
    "#         # Clean the text\n",
    "#         clean_text = clean_text(text)\n",
    "\n",
    "#         return clean_text\n",
    "\n",
    "#     except TranscriptNotFoundError:\n",
    "#         return f\"Transcript not found for the provided URL.\"\n",
    "\n",
    "#     except Exception as e:\n",
    "#         print(e)\n",
    "#         return f\"Failed to retrieve the transcript or the language is not available.\"\n"
   ]
  },
  {
   "cell_type": "code",
   "execution_count": null,
   "id": "8cf49651-53d6-4453-a62b-29a9ef31c5bf",
   "metadata": {},
   "outputs": [],
   "source": [
    "print(get_youTubeTranscript_text(\"https://www.youtube.com/watch?v=wiK6LNTJ0rc\"))"
   ]
  },
  {
   "cell_type": "code",
   "execution_count": 266,
   "id": "88705b52-486f-4830-97bc-48514884e9d7",
   "metadata": {},
   "outputs": [],
   "source": [
    "YOUTUBE_SUMMARY_TEMPLATE = \"\"\"{text}\n",
    "\n",
    "-----------------\n",
    "Using the above youtube transcript text, answer in short the following questions:\n",
    "\n",
    "> {question}\n",
    "\n",
    "------------------\n",
    "if the question cannot be answered using the text,imply summarize the text. Include all factual information,numbers,stats etc\n",
    "\"\"\"\n",
    "YOUTUBE_SUMMARY_PROMPT = ChatPromptTemplate.from_template(YOUTUBE_SUMMARY_TEMPLATE)\n",
    "model = GooglePalm( temperature = 0)\n",
    "\n",
    "get_youTubeTranscript_and_summarize_chain = RunnablePassthrough.assign(summary = RunnablePassthrough.assign(text=lambda x: get_youTubeTranscript_text(x[\"url\"])\n",
    ")|YOUTUBE_SUMMARY_PROMPT | model | StrOutputParser()) | (lambda x:f\"url : {x['url']}\\n\\nsummary : {x['summary']}\")\n",
    "\n",
    "\n",
    "\n"
   ]
  },
  {
   "cell_type": "code",
   "execution_count": null,
   "id": "fa03a927-ee0d-474c-bc8f-a6ad7ecec5e2",
   "metadata": {},
   "outputs": [],
   "source": [
    "# get_youTubeTranscript_and_summarize_chain.invoke({\n",
    "#     \"question\":\"What does the youtuber teach about\",\n",
    "#     \"url\":\"https://youtu.be/DjuXACWYkkU?si=gdiDJf0P4gjikzgZ\"\n",
    "# })\n",
    "\n",
    "# [{'question': 'Who will win 2024 India General Election',\n",
    "#   'url': 'https://www.youtube.com/watch?v=5gCxjsh-sHU'},\n",
    "#  {'question': 'Who will win 2024 India General Election',\n",
    "#   'url': 'https://www.youtube.com/watch?v=ZBo-fPzWoZw'},\n",
    "#  {'question': 'Who will win 2024 India General Election',\n",
    "#   'url': 'https://www.youtube.com/watch?v=Yx-e9bxbhgM'}]\n",
    "get_youTubeTranscript_and_summarize_chain.invoke({'question': 'Who will win 2024 India General Election',\n",
    "  'url': 'https://www.youtube.com/watch?v=5gCxjsh-sHU'})\n"
   ]
  },
  {
   "cell_type": "code",
   "execution_count": null,
   "id": "42bf86cd-5d96-4598-b9fd-6bea300b9820",
   "metadata": {},
   "outputs": [],
   "source": [
    "!\n"
   ]
  },
  {
   "cell_type": "code",
   "execution_count": 243,
   "id": "03abc7b1-6a41-4ce0-a542-41dc58846fb5",
   "metadata": {},
   "outputs": [],
   "source": [
    "# from youtubesearchpython import VideosSearch\n",
    "# from pytube import YouTube\n",
    "# def get_youtube_links(search_query, RESULTS_PER_QUESTION = 3,MAX_DURATION=1800):\n",
    "#     videos_search = VideosSearch(search_query, limit=30)\n",
    "#     results = videos_search.result()\n",
    "\n",
    "#     # video_links = []\n",
    "#     # for video in results[\"result\"]:\n",
    "#     #     video_links.append(video[\"link\"])\n",
    "\n",
    "    \n",
    "#     video_links = []\n",
    "#     for video in results[\"result\"]:\n",
    "#         video_url = video[\"link\"]\n",
    "#         try:\n",
    "#             yt = YouTube(video_url)\n",
    "#             duration_seconds = yt.length\n",
    "#             if duration_seconds <= MAX_DURATION:\n",
    "#                 video_links.append(video_url)\n",
    "#                 if(len(video_links)>=RESULTS_PER_QUESTION):\n",
    "#                     break\n",
    "#         except Exception as e:\n",
    "#             print(f\"Error processing video {video_url}: {e}\")\n",
    "\n",
    "#     return video_links\n",
    "\n",
    "\n",
    "\n",
    "\n",
    "def has_english_captions(video_id):\n",
    "    try:\n",
    "        transcript = YouTubeTranscriptApi.get_transcript(video_id, languages=['en'])\n",
    "        return len(transcript) > 0\n",
    "    except Exception as e:\n",
    "        return False\n",
    "\n",
    "def get_youtube_links(search_query, RESULTS_PER_QUESTION=3, MAX_DURATION=1800):\n",
    "    videos_search = VideosSearch(search_query, limit=30)\n",
    "    results = videos_search.result()\n",
    "\n",
    "    video_links = []\n",
    "    for video in results[\"result\"]:\n",
    "        video_url = video[\"link\"]\n",
    "        try:\n",
    "            yt = YouTube(video_url)\n",
    "            duration_seconds = yt.length\n",
    "            title = yt.title\n",
    "            video_id = yt.video_id\n",
    "\n",
    "            # Check if the video has English title and descriptions\n",
    "            if duration_seconds <= MAX_DURATION  and has_english_captions(video_id):\n",
    "                video_links.append(video_url)\n",
    "                if len(video_links) >= RESULTS_PER_QUESTION:\n",
    "                    break\n",
    "        except Exception as e:\n",
    "            print(f\"Error processing video {video_url}: {e}\")\n",
    "\n",
    "    return video_links\n",
    "\n",
    "\n"
   ]
  },
  {
   "cell_type": "code",
   "execution_count": 244,
   "id": "fc2bd35b-882b-4932-b706-3834b2454b76",
   "metadata": {},
   "outputs": [
    {
     "data": {
      "text/plain": [
       "['https://www.youtube.com/watch?v=aywZrzNaKjs',\n",
       " 'https://www.youtube.com/watch?v=MlK6SIjcjE8',\n",
       " 'https://www.youtube.com/watch?v=I4mFqyqFkxg']"
      ]
     },
     "execution_count": 244,
     "metadata": {},
     "output_type": "execute_result"
    }
   ],
   "source": [
    "get_youtube_links(\"Langchain tutorial\")"
   ]
  },
  {
   "cell_type": "code",
   "execution_count": null,
   "id": "7b273612-ed2f-4148-8889-630813175c09",
   "metadata": {},
   "outputs": [],
   "source": [
    "search_query = \"Langchain tutorial\"\n",
    "max_results = 5\n",
    "\n",
    "youtube_links = get_youtube_links(search_query, max_results)\n",
    "print(youtube_links)"
   ]
  },
  {
   "cell_type": "code",
   "execution_count": 245,
   "id": "0edd8f71-9746-46b2-bad2-8b3423ede32a",
   "metadata": {},
   "outputs": [],
   "source": [
    "# get list of dictionary of question and youTube link from a question\n",
    "youTubelink_extraction_chain = RunnablePassthrough.assign(\n",
    "    urls = lambda x: get_youtube_links(x[\"question\"])\n",
    ")| (lambda x : [{\"question\":x[\"question\"],\"url\": u} for u in x[\"urls\"]])"
   ]
  },
  {
   "cell_type": "code",
   "execution_count": 263,
   "id": "1fac3e8f-8f9a-4234-953f-b58b5582081e",
   "metadata": {},
   "outputs": [
    {
     "data": {
      "text/plain": [
       "[{'question': 'Deep Learning',\n",
       "  'url': 'https://www.youtube.com/watch?v=6M5VXKLf4D4'},\n",
       " {'question': 'Deep Learning',\n",
       "  'url': 'https://www.youtube.com/watch?v=aircAruvnKk'},\n",
       " {'question': 'Deep Learning',\n",
       "  'url': 'https://www.youtube.com/watch?v=q6kJ71tEYqM'}]"
      ]
     },
     "execution_count": 263,
     "metadata": {},
     "output_type": "execute_result"
    }
   ],
   "source": [
    "youTubelink_extraction_chain.invoke({\n",
    "    \"question\":\"Deep Learning\",\n",
    "})"
   ]
  },
  {
   "cell_type": "code",
   "execution_count": 264,
   "id": "b5a1eaf2-fcb7-43c2-9318-ee373a828a55",
   "metadata": {},
   "outputs": [],
   "source": [
    "youTube_single_question_multilink_web_search_chain = youTubelink_extraction_chain | get_youTubeTranscript_and_summarize_chain.map()\n"
   ]
  },
  {
   "cell_type": "code",
   "execution_count": 265,
   "id": "526630c5-8c2d-4854-a23d-f6aaca489cc1",
   "metadata": {},
   "outputs": [
    {
     "data": {
      "text/plain": [
       "['url : https://www.youtube.com/watch?v=6M5VXKLf4D4\\n\\nsummary : Deep learning is a subset of machine learning which in turn is a subset of artificial intelligence.\\nDeep learning is inspired by the structure of the human brain and is a type of machine learning that allows computers to learn without being explicitly programmed.\\nDeep learning requires a massive volume of data to train, and is used in applications such as customer support, medical care, and self-driving cars.\\nDeep learning has some limitations, including the need for a lot of data, computational power, and training time.\\nSome popular deep learning frameworks include TensorFlow, PyTorch, Keras, Deep Learning 4j, Cafe, and Microsoft Cognitive Toolkit.',\n",
       " 'url : https://www.youtube.com/watch?v=aircAruvnKk\\n\\nsummary : Deep learning is a type of machine learning that uses artificial neural networks to learn from data. Neural networks are inspired by the human brain, and they can be used to solve a variety of problems, including image recognition, natural language processing, and speech recognition.\\n\\nIn this video, we will learn about the basics of deep learning. We will start by discussing what neural networks are and how they work. We will then look at how deep learning is used to solve real-world problems. Finally, we will discuss some of the challenges and limitations of deep learning.\\n\\nHere are some of the key takeaways from this video:\\n\\n* Neural networks are a type of machine learning model that is inspired by the human brain.\\n* Neural networks can be used to solve a variety of problems, including image recognition, natural language processing, and speech recognition.\\n* Deep learning is a type of machine learning that uses artificial neural networks to learn from data.\\n* Deep learning is still a relatively new field, and there are a number of challenges and limitations that need to be addressed.\\n\\nHere are some additional resources that you may find helpful:\\n\\n* [Deep Learning for Beginners](https://www.coursera.org/specializations/deep-learning)\\n* [Deep Learning Specialization](https://www.deeplearning.ai/)\\n* [Deep Learning with Python](https://www.manning.com/books/deep-learning-with-python)',\n",
       " 'url : https://www.youtube.com/watch?v=q6kJ71tEYqM\\n\\nsummary : Deep learning is a subset of machine learning that uses artificial neural networks to learn from data. Neural networks are made up of layers of interconnected nodes, and each layer learns to extract features from the data. Deep learning algorithms can be used for a variety of tasks, such as image recognition, natural language processing, and speech recognition.\\n\\nDeep learning models can be trained on large datasets of unlabeled data, which allows them to learn patterns and relationships that would be difficult to identify with traditional machine learning methods. This makes deep learning particularly well-suited for tasks such as natural language processing, where there is often a large amount of unlabeled data available.\\n\\nDeep learning models are typically more complex than traditional machine learning models, and they can require more data and computational resources to train. However, they can also achieve much higher levels of accuracy.\\n\\nHere are some examples of deep learning applications:\\n\\n* Image recognition: Deep learning algorithms are used to identify objects in images, such as faces, animals, and cars.\\n* Natural language processing: Deep learning algorithms are used to understand the meaning of text, such as translating languages or generating text.\\n* Speech recognition: Deep learning algorithms are used to recognize spoken words, such as in voice-activated assistants or dictation software.\\n\\nDeep learning is a rapidly growing field, and it is expected to have a major impact on a wide variety of industries.']"
      ]
     },
     "execution_count": 265,
     "metadata": {},
     "output_type": "execute_result"
    }
   ],
   "source": [
    "youTube_single_question_multilink_web_search_chain.invoke({\n",
    "    \"question\":\"Deep learning\",\n",
    "})"
   ]
  },
  {
   "cell_type": "code",
   "execution_count": 249,
   "id": "a4502ec7-d4b5-47e0-ae69-5978d5258a59",
   "metadata": {},
   "outputs": [],
   "source": [
    "YOUTUBE_SEARCH_TEMPLATE =\"\"\"\n",
    "Write 3 youtube search queries to search youtube to form an objective opinion of from the following: \n",
    "{question} \n",
    "-----------------\n",
    "\n",
    "You must respond with a list of strings in the following format:\n",
    "-----------------\n",
    "[\"query 1\",\"query 2\",\"query 3\"]\n",
    "\"\"\"\n",
    "\n",
    "YOUTUBE_SEARCH_PROMPT = ChatPromptTemplate.from_messages(\n",
    "    [\n",
    "        HumanMessagePromptTemplate.from_template(SEARCH_TEMPLATE)\n",
    "    ]\n",
    ")"
   ]
  },
  {
   "cell_type": "code",
   "execution_count": 250,
   "id": "2f8c6656-e7af-429c-b677-f95794365feb",
   "metadata": {},
   "outputs": [],
   "source": [
    "import json\n",
    "create_youtube_question_chain = YOUTUBE_SEARCH_PROMPT | model | StrOutputParser() | json.loads"
   ]
  },
  {
   "cell_type": "code",
   "execution_count": 251,
   "id": "363a5122-1f18-4454-9044-3322b5a13fdf",
   "metadata": {},
   "outputs": [
    {
     "data": {
      "text/plain": [
       "['deep learning pros and cons',\n",
       " 'deep learning applications',\n",
       " 'deep learning limitations']"
      ]
     },
     "execution_count": 251,
     "metadata": {},
     "output_type": "execute_result"
    }
   ],
   "source": [
    "create_youtube_question_chain.invoke({\n",
    "    \"question\":\"Deep learning\"\n",
    "})"
   ]
  },
  {
   "cell_type": "code",
   "execution_count": 252,
   "id": "4066b95b-97ab-4f92-aea7-60ed8311f5e1",
   "metadata": {},
   "outputs": [],
   "source": [
    "#given a question it creates question then for each question finds multiple urls then for each such url data is fetched,creates a list of list\n",
    "full_youTube_web_search_chain =create_youtube_question_chain |(lambda x : [ {\"question\": q} for q in x]) |youTube_single_question_multilink_web_search_chain.map()\n"
   ]
  },
  {
   "cell_type": "code",
   "execution_count": null,
   "id": "deaa3aa5-979d-48b2-ac93-53b06d98ab2b",
   "metadata": {},
   "outputs": [],
   "source": [
    "YOUTUBE_RESEARCH_REPORT_TEMPLATE = \"\"\"Information: \n",
    "--------\n",
    "{research_summary}\n",
    "--------\n",
    "\n",
    "Using the above information, answer the following question or topic: \"{question}\" in a detailed report -- \\\n",
    "The report should focus on the answer to the question, should be well structured, informative, \\\n",
    "in depth, with facts and numbers if available and a minimum of 1,200 words.\n",
    "\n",
    "You should strive to write the report as long as you can using all relevant and necessary information provided.\n",
    "You must write the report with markdown syntax.\n",
    "You MUST determine your own concrete and valid opinion based on the given information. Do NOT deter to general and meaningless conclusions.\n",
    "Write all used source urls at the end of the report, and make sure to not add duplicated sources, but only one reference for each.\n",
    "You must write the report in apa format.\n",
    "The data above comes from youtube transcripts so make the reference accordingly\n",
    "Please do your best, this is very important to my career.\"\"\" "
   ]
  },
  {
   "cell_type": "code",
   "execution_count": 253,
   "id": "ece0e4d7-07bf-4b83-93fc-718fd99c4d8c",
   "metadata": {},
   "outputs": [],
   "source": [
    "full_youTube_prompt = ChatPromptTemplate.from_messages(\n",
    "    [\n",
    "        (\"system\", WRITER_SYSTEM_PROMPT),\n",
    "        (\"user\", YOUTUBE_RESEARCH_REPORT_TEMPLATE),\n",
    "    ]\n",
    ")"
   ]
  },
  {
   "cell_type": "code",
   "execution_count": 254,
   "id": "2d307997-ea78-4d30-9465-97a9973bb542",
   "metadata": {},
   "outputs": [],
   "source": [
    "full_youTube_chain = RunnablePassthrough.assign(\n",
    "    research_summary= full_youTube_web_search_chain | (lambda x: \"\\n\\n\".join([\"\\n\\n\".join(l) for l in x]))\n",
    "\n",
    ") | full_youTube_prompt | model | StrOutputParser()\n"
   ]
  },
  {
   "cell_type": "code",
   "execution_count": 262,
   "id": "d7af8965-28c6-4525-8734-9f9e61bf9add",
   "metadata": {},
   "outputs": [
    {
     "data": {
      "text/plain": [
       "'## Deep Learning\\n\\nDeep learning is a type of machine learning that uses artificial neural networks to learn from data. Neural networks are inspired by the human brain, and they can be used to solve a wide variety of problems, including image recognition, natural language processing, and speech recognition.\\n\\n### What are the pros and cons of deep learning?\\n\\n**Pros:**\\n\\n* Deep learning models can achieve state-of-the-art results on a variety of tasks.\\n* They are able to learn from large amounts of data, even if the data is noisy or incomplete.\\n* Deep learning models can be used to solve problems that are difficult or impossible for traditional machine learning algorithms to solve.\\n\\n**Cons:**\\n\\n* Deep learning models can be complex and difficult to understand.\\n* They can be computationally expensive to train.\\n* Deep learning models can be biased, and it is important to be aware of this when using them.\\n\\n### What are some applications of deep learning?\\n\\nDeep learning is used in a wide variety of applications, including:\\n\\n* Image recognition: Deep learning models are used to identify objects in images, such as faces, animals, and cars.\\n* Natural language processing: Deep learning models are used to understand and generate text, such as translating languages, summarizing text, and generating text descriptions of images.\\n* Speech recognition: Deep learning models are used to recognize spoken words, such as in voice assistants and dictation software.\\n* Robotics: Deep learning models are used to control robots and enable them to perform complex tasks, such as walking, grasping objects, and navigating through environments.\\n* Medical imaging: Deep learning models are used to diagnose diseases and identify abnormalities in medical images, such as X-rays, CT scans, and MRIs.\\n* Financial trading: Deep learning models are used to predict stock prices and identify trading opportunities.\\n* Customer service: Deep learning models are used to provide customer support and answer questions, such as in chatbots and virtual assistants.\\n\\n### What are the limitations of deep learning?\\n\\nDeep learning models have the following limitations:\\n\\n* They do not have common sense knowledge.\\n* They are just a chain of simple continuous geometric transformations mapping one vector space into another.\\n* They can be interpreted as a kind of program, but most programs cannot be expressed as a deep learning model.\\n* They cannot do extreme generalization.\\n* They require a lot of data to learn local generalizations.\\n\\n### What is the future of deep learning?\\n\\nThe future of deep learning is bright. Deep learning models are becoming more powerful and efficient, and they are being used in a wider variety of applications. As the amount of data available continues to grow, deep learning models will become even more powerful and will be able to solve even more problems.\\n\\n### Conclusion\\n\\nDeep learning is a powerful tool that is being used to solve a wide variety of problems. It is still in its early stages of development, but it has the potential to revolutionize many industries.\\n\\n## References\\n\\n1. [Deep Learning](https://www.coursera.org/specializations/deep-learning)\\n2. [Deep Learning for Beginners](https://www.tensorflow.org/tutorials/deep_learning)\\n3. [Deep Learning Applications](https://www.deeplearning.ai/applications/)\\n4. [Deep Learning Limitations](https://arxiv.org/pdf/1902.07285.pdf)\\n5. [The Future of Deep Learning](https://www.technologyreview.com/s/612640/the-future-of-deep-learning/)'"
      ]
     },
     "execution_count": 262,
     "metadata": {},
     "output_type": "execute_result"
    }
   ],
   "source": [
    "full_youTube_chain.invoke(\n",
    "       {\n",
    "        \"question\":\"Deep Learning\",\n",
    "    }\n",
    ")"
   ]
  },
  {
   "cell_type": "code",
   "execution_count": null,
   "id": "541d30bb-14a9-45c0-a783-a8d58858ae4f",
   "metadata": {},
   "outputs": [],
   "source": []
  }
 ],
 "metadata": {
  "kernelspec": {
   "display_name": "lc-venv",
   "language": "python",
   "name": "lc-venv"
  },
  "language_info": {
   "codemirror_mode": {
    "name": "ipython",
    "version": 3
   },
   "file_extension": ".py",
   "mimetype": "text/x-python",
   "name": "python",
   "nbconvert_exporter": "python",
   "pygments_lexer": "ipython3",
   "version": "3.11.6"
  }
 },
 "nbformat": 4,
 "nbformat_minor": 5
}
